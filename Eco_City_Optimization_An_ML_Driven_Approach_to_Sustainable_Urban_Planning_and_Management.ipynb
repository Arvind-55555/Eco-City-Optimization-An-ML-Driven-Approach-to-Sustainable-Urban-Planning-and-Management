{
  "nbformat": 4,
  "nbformat_minor": 0,
  "metadata": {
    "colab": {
      "provenance": [],
      "authorship_tag": "ABX9TyPpxO9oZejT2Tjh0EcSt1y6",
      "include_colab_link": true
    },
    "kernelspec": {
      "name": "python3",
      "display_name": "Python 3"
    },
    "language_info": {
      "name": "python"
    }
  },
  "cells": [
    {
      "cell_type": "markdown",
      "metadata": {
        "id": "view-in-github",
        "colab_type": "text"
      },
      "source": [
        "<a href=\"https://colab.research.google.com/github/Arvind-55555/Eco-City-Optimization-An-ML-Driven-Approach-to-Sustainable-Urban-Planning-and-Management/blob/main/Eco_City_Optimization_An_ML_Driven_Approach_to_Sustainable_Urban_Planning_and_Management.ipynb\" target=\"_parent\"><img src=\"https://colab.research.google.com/assets/colab-badge.svg\" alt=\"Open In Colab\"/></a>"
      ]
    },
    {
      "cell_type": "code",
      "execution_count": 1,
      "metadata": {
        "id": "8nHYcA_8Pt_T"
      },
      "outputs": [],
      "source": [
        "import pandas as pd\n",
        "import numpy as np\n",
        "from sklearn.model_selection import train_test_split\n",
        "from sklearn.ensemble import RandomForestRegressor\n",
        "from sklearn.metrics import mean_squared_error, mean_absolute_error\n",
        "import requests\n",
        "from datetime import datetime, timedelta\n",
        "import time"
      ]
    },
    {
      "cell_type": "code",
      "source": [
        "# API Key (Replace with your own from https://aqicn.org/api/)\n",
        "API_KEY = \"YOUR_AQICN_API_KEY\"\n",
        "\n",
        "# City for which you want to get air quality data\n",
        "CITY_NAME = \"Hyderabad\"\n",
        "\n",
        "\n",
        "def fetch_aqi_data(city, api_key):\n",
        "    \"\"\"Fetches air quality data from Aqicn API.\"\"\"\n",
        "    url = f\"https://api.waqi.info/feed/{city}/?token={api_key}\"\n",
        "    try:\n",
        "        response = requests.get(url)\n",
        "        response.raise_for_status()  # Raise HTTPError for bad responses (4xx or 5xx)\n",
        "        data = response.json()\n",
        "        if data['status'] == 'ok':\n",
        "            return data['data']\n",
        "        else:\n",
        "            print(f\"API Error: {data['status']}\")\n",
        "            return None\n",
        "    except requests.exceptions.RequestException as e:\n",
        "        print(f\"Error fetching data: {e}\")\n",
        "        return None\n",
        "\n",
        "def preprocess_aqi_data(data):\n",
        "    \"\"\"Preprocesses the raw API response into a usable DataFrame.\"\"\"\n",
        "    if data is None:\n",
        "        return None\n",
        "\n",
        "    aqi = data.get('aqi')\n",
        "    time_data = data.get('time', {})\n",
        "\n",
        "    if not aqi or not time_data:\n",
        "        print(\"Missing essential keys in API response.\")\n",
        "        return None\n",
        "\n",
        "    df_data = {\n",
        "        'aqi': [aqi],\n",
        "        'time': [time_data['s']]\n",
        "    }\n",
        "\n",
        "    for pol in data.get('iaqi',{}):\n",
        "      if pol != 'h' and pol != 't':\n",
        "        df_data[pol] = [data['iaqi'][pol]['v']]\n",
        "\n",
        "    df = pd.DataFrame(df_data)\n",
        "\n",
        "    df['time'] = pd.to_datetime(df['time'])\n",
        "\n",
        "    return df"
      ],
      "metadata": {
        "id": "pgz-kV3VRqvE"
      },
      "execution_count": 2,
      "outputs": []
    },
    {
      "cell_type": "markdown",
      "source": [
        "# Creating Features"
      ],
      "metadata": {
        "id": "SFekxFtcUf2p"
      }
    },
    {
      "cell_type": "code",
      "source": [
        "def create_features(df):\n",
        "    \"\"\"Creates features from the dataframe like Hour and minute, also handling missing data\"\"\"\n",
        "\n",
        "    df['hour'] = df['time'].dt.hour\n",
        "    df['minute'] = df['time'].dt.minute\n",
        "\n",
        "\n",
        "    for pol in df.columns:\n",
        "      if pol not in ['aqi', 'time','hour','minute']:\n",
        "        df[pol] = df[pol].replace(r'^\\s*$', np.nan, regex=True)  # Replace empty spaces with NaN\n",
        "        df[pol] = pd.to_numeric(df[pol]) # Ensure numeric type\n",
        "        df[pol] = df[pol].fillna(df[pol].mean())  # Fill NaN values with mean\n",
        "\n",
        "    return df"
      ],
      "metadata": {
        "id": "YesTMbHRUYP7"
      },
      "execution_count": 3,
      "outputs": []
    },
    {
      "cell_type": "markdown",
      "source": [
        "# Training a Random Forest Regression Model"
      ],
      "metadata": {
        "id": "Nu_ccQFNVY9Y"
      }
    },
    {
      "cell_type": "code",
      "source": [
        "def train_model(df):\n",
        "    \"\"\"Trains a Random Forest Regression model.\"\"\"\n",
        "    if df is None:\n",
        "      return None, None\n",
        "\n",
        "    features = [col for col in df.columns if col not in ['aqi', 'time']]  # Select features\n",
        "    X = df[features]\n",
        "    y = df['aqi']\n",
        "    X_train, X_test, y_train, y_test = train_test_split(X, y, test_size=0.2, random_state=42)\n",
        "    model = RandomForestRegressor(n_estimators=100, random_state=42)\n",
        "    model.fit(X_train, y_train)\n",
        "    y_pred = model.predict(X_test)\n",
        "\n",
        "    mse = mean_squared_error(y_test, y_pred)\n",
        "    mae = mean_absolute_error(y_test, y_pred)\n",
        "    print(f\"Model Performance: MSE={mse:.2f}, MAE={mae:.2f}\")\n",
        "    return model, features\n",
        "\n",
        "def make_prediction(model, features, data_df):\n",
        "    \"\"\"Makes prediction based on live data\"\"\"\n",
        "    if model is None:\n",
        "      return None\n",
        "\n",
        "\n",
        "    X = data_df[features]\n",
        "    prediction = model.predict(X)\n",
        "    return prediction"
      ],
      "metadata": {
        "id": "2n54ROpmUjXh"
      },
      "execution_count": 4,
      "outputs": []
    },
    {
      "cell_type": "code",
      "source": [
        "if __name__ == \"__main__\":\n",
        "\n",
        "    # Fetch Real-Time Data (Repeat this to get a time series)\n",
        "    all_data = []\n",
        "    for i in range (50):\n",
        "        time.sleep(60)  # Wait before fetching new data\n",
        "\n",
        "        raw_data = fetch_aqi_data(CITY_NAME, API_KEY)\n",
        "        if raw_data:\n",
        "            processed_df = preprocess_aqi_data(raw_data)\n",
        "            if processed_df is not None:\n",
        "                all_data.append(processed_df)\n",
        "        else:\n",
        "             print(f\"Failed to retrieve data at {datetime.now()}\")\n",
        "\n",
        "\n",
        "    # Concat all the data points into one dataframe\n",
        "    if len(all_data) > 0:\n",
        "      df = pd.concat(all_data, ignore_index=True)\n",
        "      df = create_features(df)\n",
        "      model, features = train_model(df)\n",
        "\n",
        "      # Make Prediction on New data point\n",
        "      new_raw_data = fetch_aqi_data(CITY_NAME, API_KEY)\n",
        "      new_processed_df = preprocess_aqi_data(new_raw_data)\n",
        "      if new_processed_df is not None:\n",
        "        new_processed_df = create_features(new_processed_df)\n",
        "        if model:\n",
        "           prediction = make_prediction(model, features,new_processed_df)\n",
        "           print(f\"Predicted AQI: {prediction[0]:.2f}\")\n",
        "        else:\n",
        "           print (\"No model was generated.\")\n",
        "\n",
        "    else:\n",
        "      print(\"No data was retrieved.\")"
      ],
      "metadata": {
        "colab": {
          "base_uri": "https://localhost:8080/"
        },
        "id": "OALCp4bnRqxr",
        "outputId": "dfa05fa2-6048-473c-d5b6-0845b115965c"
      },
      "execution_count": null,
      "outputs": [
        {
          "output_type": "stream",
          "name": "stdout",
          "text": [
            "API Error: error\n",
            "Failed to retrieve data at 2024-12-31 10:47:31.600595\n",
            "API Error: error\n",
            "Failed to retrieve data at 2024-12-31 10:48:32.339166\n",
            "API Error: error\n",
            "Failed to retrieve data at 2024-12-31 10:49:33.107852\n",
            "API Error: error\n",
            "Failed to retrieve data at 2024-12-31 10:50:33.846808\n",
            "API Error: error\n",
            "Failed to retrieve data at 2024-12-31 10:51:34.586101\n",
            "API Error: error\n",
            "Failed to retrieve data at 2024-12-31 10:52:35.312858\n",
            "API Error: error\n",
            "Failed to retrieve data at 2024-12-31 10:53:36.015360\n"
          ]
        }
      ]
    },
    {
      "cell_type": "code",
      "source": [],
      "metadata": {
        "id": "a4cy66sCRq0W"
      },
      "execution_count": null,
      "outputs": []
    }
  ]
}